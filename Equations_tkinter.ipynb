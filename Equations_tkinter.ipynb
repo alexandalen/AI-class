{
 "cells": [
  {
   "cell_type": "markdown",
   "metadata": {},
   "source": [
    "# 方程式語法 (tkinter)"
   ]
  },
  {
   "cell_type": "code",
   "execution_count": null,
   "metadata": {},
   "outputs": [],
   "source": [
    "from sympy.solvers import solve\n",
    "import tkinter as tk\n",
    "\n",
    "windows = tk.Tk()\n",
    "windows.title(\"聯立方程式計算\")\n",
    "windows.geometry(\"400x300\")\n",
    "windows.configure(background=\"white\")\n",
    "\n",
    "def run():\n",
    "    equation=[]\n",
    "    expr1=text1.get(\"1.0\",\"end\")\n",
    "    equat=expr1.split(\"\\n\")\n",
    "    if len(equat)>0:\n",
    "        for j in range(len(equat)):\n",
    "            if equat[j]==\"\":\n",
    "                continue\n",
    "            print (equat[j])\n",
    "            arr=equat[j].split(\"=\")\n",
    "            if len(arr)==2:\n",
    "                equat[j]=arr[0] + \"-(\" + arr[1] + \")\"\n",
    "                equation.append(equat[j])\n",
    "        print(equation)\n",
    "        answer1.set(solve(equation))\n",
    "\n",
    "answer1 = tk.StringVar()\n",
    "header_label=tk.Label(windows, text=\"解聯立方程式\",height=1, font=(\"標楷體\",20,\"bold\"))\n",
    "header_label.pack()\n",
    "text1=tk.Text(windows, height=4, width=30, font=(\"Comic Sans MS\", 18,\"bold\"))\n",
    "text1.pack()\n",
    "Bt=tk.Button(windows, text=\"解答\", font=(\"標楷體\", 36,\"bold\"), command=run)\n",
    "Bt.pack()\n",
    "Lb=tk.Label(windows, text=\"\",height=1, textvariable=answer1, font=(\"Comic Sans MS\", 18,\"bold\") )\n",
    "Lb.pack()\n",
    "\n",
    "windows.mainloop()"
   ]
  },
  {
   "cell_type": "code",
   "execution_count": null,
   "metadata": {},
   "outputs": [],
   "source": []
  }
 ],
 "metadata": {
  "kernelspec": {
   "display_name": "Python 3",
   "language": "python",
   "name": "python3"
  },
  "language_info": {
   "codemirror_mode": {
    "name": "ipython",
    "version": 3
   },
   "file_extension": ".py",
   "mimetype": "text/x-python",
   "name": "python",
   "nbconvert_exporter": "python",
   "pygments_lexer": "ipython3",
   "version": "3.7.6"
  }
 },
 "nbformat": 4,
 "nbformat_minor": 4
}
