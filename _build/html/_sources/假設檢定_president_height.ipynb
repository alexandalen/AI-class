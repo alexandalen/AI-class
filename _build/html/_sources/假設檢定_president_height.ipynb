{
 "cells": [
  {
   "cell_type": "markdown",
   "metadata": {},
   "source": [
    "# 統計 (t-test)"
   ]
  },
  {
   "cell_type": "code",
   "execution_count": 53,
   "metadata": {},
   "outputs": [
    {
     "name": "stdout",
     "output_type": "stream",
     "text": [
      "    height(cm)\n",
      "0          189\n",
      "1          170\n",
      "2          189\n",
      "3          163\n",
      "4          183\n",
      "5          171\n",
      "6          185\n",
      "7          168\n",
      "8          173\n",
      "9          183\n",
      "10         173\n",
      "11         173\n",
      "12         175\n",
      "13         178\n",
      "14         183\n",
      "15         193\n",
      "16         178\n",
      "17         173\n",
      "18         174\n",
      "19         183\n",
      "20         183\n",
      "21         168\n",
      "22         170\n",
      "23         178\n",
      "24         182\n",
      "25         180\n",
      "26         183\n",
      "27         178\n",
      "28         182\n",
      "29         188\n",
      "30         175\n",
      "31         179\n",
      "32         183\n",
      "33         193\n",
      "34         182\n",
      "35         183\n",
      "36         177\n",
      "37         185\n",
      "38         188\n",
      "39         188\n",
      "40         182\n",
      "41         185\n"
     ]
    }
   ],
   "source": [
    "import pandas as pd\n",
    "from scipy import stats\n",
    "import numpy as np  \n",
    "df= pd.read_csv('./president_heights.csv')\n",
    "d=pd.DataFrame(df)\n",
    "print(d[['height(cm)']])\n",
    "\n"
   ]
  },
  {
   "cell_type": "code",
   "execution_count": 55,
   "metadata": {},
   "outputs": [
    {
     "name": "stdout",
     "output_type": "stream",
     "text": [
      "    height(cm)\n",
      "32         183\n",
      "33         193\n",
      "34         182\n",
      "35         183\n",
      "36         177\n",
      "37         185\n",
      "38         188\n",
      "39         188\n",
      "40         182\n",
      "41         185\n"
     ]
    }
   ],
   "source": [
    "last=d.tail(10)\n",
    "print(last[['height(cm)']])\n"
   ]
  },
  {
   "cell_type": "code",
   "execution_count": 56,
   "metadata": {},
   "outputs": [
    {
     "name": "stdout",
     "output_type": "stream",
     "text": [
      "    height(cm)\n",
      "0          189\n",
      "1          170\n",
      "2          189\n",
      "3          163\n",
      "4          183\n",
      "5          171\n",
      "6          185\n",
      "7          168\n",
      "8          173\n",
      "9          183\n",
      "10         173\n",
      "11         173\n",
      "12         175\n",
      "13         178\n",
      "14         183\n",
      "15         193\n",
      "16         178\n",
      "17         173\n",
      "18         174\n",
      "19         183\n",
      "20         183\n",
      "21         168\n",
      "22         170\n",
      "23         178\n",
      "24         182\n",
      "25         180\n",
      "26         183\n",
      "27         178\n",
      "28         182\n",
      "29         188\n",
      "30         175\n",
      "31         179\n"
     ]
    }
   ],
   "source": [
    "early=df.head(len(df)-10) \n",
    "print(early[['height(cm)']])"
   ]
  },
  {
   "cell_type": "code",
   "execution_count": 83,
   "metadata": {},
   "outputs": [
    {
     "name": "stdout",
     "output_type": "stream",
     "text": [
      "t-statistic:[2.69562114]\n",
      "p-value:0.005113\n"
     ]
    }
   ],
   "source": [
    "s1=last[['height(cm)']]\n",
    "s2=early[['height(cm)']]\n",
    "\n",
    "#sample=np.append(s1,s2)\n",
    "#print(sample)\n",
    "t,p = stats.ttest_ind(s1,s2)\n",
    "p1 = '%f' % (p/2) \n",
    "print (\"t-statistic:\" + str(t))\n",
    "print(\"p-value:\" + str(p1))"
   ]
  },
  {
   "cell_type": "code",
   "execution_count": null,
   "metadata": {},
   "outputs": [],
   "source": []
  }
 ],
 "metadata": {
  "kernelspec": {
   "display_name": "Python 3",
   "language": "python",
   "name": "python3"
  },
  "language_info": {
   "codemirror_mode": {
    "name": "ipython",
    "version": 3
   },
   "file_extension": ".py",
   "mimetype": "text/x-python",
   "name": "python",
   "nbconvert_exporter": "python",
   "pygments_lexer": "ipython3",
   "version": "3.7.6"
  }
 },
 "nbformat": 4,
 "nbformat_minor": 4
}
