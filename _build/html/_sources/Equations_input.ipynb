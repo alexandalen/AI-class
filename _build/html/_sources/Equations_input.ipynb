{
 "cells": [
  {
   "cell_type": "markdown",
   "metadata": {},
   "source": [
    "# 方程式語法 (Input)"
   ]
  },
  {
   "cell_type": "code",
   "execution_count": null,
   "metadata": {},
   "outputs": [],
   "source": [
    "equation=[]\n",
    "from sympy.solvers import solve\n",
    "from sympy import symbols\n",
    "while 1:\n",
    "    a=input(\"請輸入方程式:\")\n",
    "    if a==\"\":\n",
    "        break\n",
    "    arr=a.split(\"=\")\n",
    "    if len(arr)==2:\n",
    "        a=arr[0]+\"-(\"+arr[1]+\")\"\n",
    "        equation.append(a)\n",
    "print(equation)\n",
    "solve(equation) "
   ]
  },
  {
   "cell_type": "code",
   "execution_count": null,
   "metadata": {},
   "outputs": [],
   "source": []
  }
 ],
 "metadata": {
  "kernelspec": {
   "display_name": "Python 3",
   "language": "python",
   "name": "python3"
  },
  "language_info": {
   "codemirror_mode": {
    "name": "ipython",
    "version": 3
   },
   "file_extension": ".py",
   "mimetype": "text/x-python",
   "name": "python",
   "nbconvert_exporter": "python",
   "pygments_lexer": "ipython3",
   "version": "3.7.6"
  }
 },
 "nbformat": 4,
 "nbformat_minor": 4
}
