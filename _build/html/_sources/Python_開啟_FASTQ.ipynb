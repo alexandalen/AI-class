{
 "cells": [
  {
   "cell_type": "markdown",
   "metadata": {},
   "source": [
    "## Python open FASTQ form"
   ]
  },
  {
   "cell_type": "code",
   "execution_count": 1,
   "metadata": {},
   "outputs": [],
   "source": [
    "'''\n",
    "fastQ格式:\n",
    "@SEQ_ID\n",
    " GATTTGGGGTTCAAAGCAGTATCGATCAAATAGTAAATCCATTTGTTCAACTCACAGTTT\n",
    " +\n",
    " !''((((+))%%%++)(%%%%).1-+''))**55CCF>>>>>>CCCCCCC65\n",
    " \n",
    "第一行：@SEQ_ID\n",
    "以@開頭，之後為序列的識別碼以及描述資訊（與FASTA格式的描述行類似） (通常是用的定序儀名稱)\n",
    "第二行：GATTTGGGGTTCAA……..\n",
    "為序列資訊\n",
    "第三行：+\n",
    "以+開頭，之後可以再次加上序列的標識及描述資訊（可選）\n",
    "第四行：!”((((+))%%%++)(%%%%).1-+”))**…..\n",
    "為品質得分 Quality 資訊，與第二行的序列相對應，長度必須與第二行相同，記錄定序時讀取序列的品質得分，以ASCII字元方式記錄。\n",
    "'''\n",
    "\n",
    "def readFastq(filename):\n",
    "    sequences=[] #用來存放讀出的序列\n",
    "    qualities=[] #用來存放讀出的quality \n",
    "    with open(filename)as fh:\n",
    "        while True:\n",
    "            fh.readline() #用.readline讀出第一行資料\n",
    "            seq=fh.readline().rstrip() #用.readline讀出下一行資料，這行是要的序列 最用後 .rstrip()刪除不要的換行與空白\n",
    "            fh.readline() #用.readline讀出再下一行資料，這行是不要的 + 那行\n",
    "            qual=fh.readline().rstrip() # 用.readline讀出下一行資料，這行是要的quality 最用後 .rstrip()刪除不要的換行與空白\n",
    "            if len(seq) ==0: #當讀到序列資料長度是零的時候，就表示檔案內容已經讀完了，所以執行 break\n",
    "                break    \n",
    "            sequences.append(seq)\n",
    "            qualities.append(qual)\n",
    "    return sequences, qualities"
   ]
  },
  {
   "cell_type": "code",
   "execution_count": 2,
   "metadata": {},
   "outputs": [
    {
     "name": "stdout",
     "output_type": "stream",
     "text": [
      "0\n",
      "!\n"
     ]
    }
   ],
   "source": [
    "# quality 的代碼轉換 (ord( )與chr( )進行ASCII的數字與字母轉換)\n",
    "#方便之後每次進行 Q的ASCII代碼 與 Q數值的互相轉換\n",
    "def QtoPhred33(Q):\n",
    "    return chr(Q+33) #將 ASCII代碼 轉為 Q數值\n",
    "def Phred33ToQ(qual):\n",
    "    return ord(qual)-33 #將 Q數值 轉為 ASCII代碼 \n",
    "\n",
    "print(Phred33ToQ('!'))\n",
    "print(QtoPhred33(0))"
   ]
  },
  {
   "cell_type": "code",
   "execution_count": 24,
   "metadata": {},
   "outputs": [
    {
     "name": "stdout",
     "output_type": "stream",
     "text": [
      "ACAAAGATATAAAAAAAAATCAAACATAGACACAACCAAATAAATGATAACAAAAAAAAAATCAACAAAACAAAAAGAATATTCAAATATAAATACAAAA\n",
      "ah``agaVV_aaV\\V`]`aVeaVahXV`h`e]V]ahVPYPcaaJbh_V`]eaVVVVa^W`VVhMVV^]H_VVaVaHS]`VLbcV]Z^V_WVVa`VVV\\aV\n",
      "100\n",
      "100\n"
     ]
    }
   ],
   "source": [
    "#用readFastq讀取檔案，並將讀出的序列與Q值分別放到 seqs與 quals兩個變數中\n",
    "seqs, quals = readFastq('NTUH-1-050.DNA.noHomo.1.fq')\n",
    "print(seqs[1])\n",
    "print(quals[1])\n",
    "print(len(seqs[1]))\n",
    "print(len(quals[1]))"
   ]
  },
  {
   "cell_type": "code",
   "execution_count": 25,
   "metadata": {},
   "outputs": [
    {
     "name": "stdout",
     "output_type": "stream",
     "text": [
      "64,71,63,63,64,70,64,53,53,62,64,64,53,59,53,63,60,63,64,53,68,64,53,64,71,55,53,63,71,63,68,60,53,60,64,71,53,47,56,47,66,64,64,41,65,71,62,53,63,60,68,64,53,53,53,53,64,61,54,63,53,53,71,44,53,53,61,60,39,62,53,53,64,53,64,39,50,60,63,53,43,65,66,53,60,57,61,53,62,54,53,53,64,63,53,53,53,59,64,53,"
     ]
    }
   ],
   "source": [
    "#看這一行的Q都是代表多大的可信度，使用剛剛定義的函式 Phred33ToQ 將Quality符號(Phred33)轉為數字(Q)\n",
    "for i in quals[1]:\n",
    "    print (Phred33ToQ(i), end=\",\")"
   ]
  },
  {
   "cell_type": "code",
   "execution_count": 27,
   "metadata": {},
   "outputs": [
    {
     "data": {
      "image/png": "[encoded data removed]",
      "text/plain": [
       "<Figure size 432x288 with 1 Axes>"
      ]
     },
     "metadata": {
      "needs_background": "light"
     },
     "output_type": "display_data"
    }
   ],
   "source": [
    "#利用 matplotlib 作圖 看整個fastq檔案quality分數的分布\n",
    "import matplotlib.pyplot as plt\n",
    "import seaborn as sns\n",
    "plt.style.use('seaborn')\n",
    "%matplotlib inline\n",
    "\n",
    "hist=[0]*80  #根據quality做一個相對應個數0的 list\n",
    "for qual in quals: # 一條條讀入 剛剛讀出的 quals 內所有Q的資料\n",
    "    for phred in qual: # 一個個讀出 每條quality資料的每個quality\n",
    "        q= Phred33ToQ(phred) # 將每個值，用之前做的def(Phred33ToQ) 轉換為數值\n",
    "        hist[q] += 1 # 計算個有各有哪些q值被讀出，看讀出的 q 是多少，增加計數到剛剛做的相對應個數0的list中\n",
    "\n",
    "#做出bar圖\n",
    "plt.bar(range(len(hist)), hist)\n",
    "plt.title('Quality Distribution')\n",
    "plt.xlabel('Q value')\n",
    "plt.ylabel('Accumulation of Count')\n",
    "plt.show()"
   ]
  },
  {
   "cell_type": "code",
   "execution_count": null,
   "metadata": {},
   "outputs": [],
   "source": []
  }
 ],
 "metadata": {
  "kernelspec": {
   "display_name": "Python 3",
   "language": "python",
   "name": "python3"
  },
  "language_info": {
   "codemirror_mode": {
    "name": "ipython",
    "version": 3
   },
   "file_extension": ".py",
   "mimetype": "text/x-python",
   "name": "python",
   "nbconvert_exporter": "python",
   "pygments_lexer": "ipython3",
   "version": "3.7.6"
  }
 },
 "nbformat": 4,
 "nbformat_minor": 4
}
