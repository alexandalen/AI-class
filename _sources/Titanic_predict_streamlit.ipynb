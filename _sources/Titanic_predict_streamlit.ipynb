{
 "cells": [
  {
   "cell_type": "markdown",
   "metadata": {},
   "source": [
    "## Titanic predict survived by Streamlit"
   ]
  },
  {
   "cell_type": "code",
   "execution_count": null,
   "metadata": {},
   "outputs": [],
   "source": [
    "# https://docs.streamlit.io/en/stable/api.html#streamlit.slider\n",
    "import streamlit as st\n",
    "import pandas as pd\n",
    "\n",
    "from joblib import dump, load\n",
    "from sklearn.ensemble import RandomForestClassifier\n",
    "from sklearn.preprocessing import StandardScaler\n",
    "import numpy as np\n",
    "\n",
    "# load model\n",
    "random_forest = load('model.joblib')\n",
    "scaler = load('std.joblib')\n",
    "\n",
    "def convert_sex(sex1):\n",
    "    return 1 if sex1 == '男性' else 0\n",
    "\n",
    "def convert_age(age1):\n",
    "    bins = [0, 15, 35, 60, 100]\n",
    "    return pd.cut([age1], bins, labels=[3,1,2,0])[0]\n",
    "\n",
    "def convert_embark_town(embark1):\n",
    "    dict1 = {'Southampton':1, 'Cherbourg':2, 'Queenstown':3}\n",
    "    return dict1[embark1] \n",
    "\n",
    "\n",
    "\n",
    "# 畫面設計\n",
    "st.markdown(\"# 鐵達尼號乘客生存評估系統\")\n",
    "pclass_series = pd.Series([1, 2, 3])\n",
    "sex_series = pd.Series(['male', 'female'])\n",
    "embark_town_series = pd.Series(['Cherbourg', 'Queenstown', 'Southampton'])\n",
    "\n",
    "#下拉是選單\n",
    "sex = st.sidebar.selectbox('性別:', sex_series)\n",
    "age = st.sidebar.slider('年齡', 0, 100, 20)\n",
    "sibsp = st.sidebar.slider('同行人數', 0, 10, 0)\n",
    "embark_town = st.sidebar.selectbox('上船港口:', embark_town_series)\n",
    "parch = st.sidebar.slider('父母子女同行人數', 0, 10, 0)\n",
    "pclass = st.sidebar.selectbox('船艙等級:',pclass_series)\n",
    "fare = st.sidebar.slider('船票價錢:', 0, 100, 20)\n",
    "\n",
    "if st.sidebar.button('預測'):\n",
    "    '性別:', sex\n",
    "    '年齡:', age\n",
    "    '兄弟姊妹同行人數:', sibsp\n",
    "    '父母子女同行人數:', parch\n",
    "    '上船港口:', embark_town\n",
    "    '艙等:', pclass\n",
    "    '票價:', fare\n",
    "\n",
    "    # predict\n",
    "    X = []\n",
    "    # pclass\tsex\tage\tsibsp\tparch\tfare\tembark_town\n",
    "    X.append([pclass, convert_sex(sex), convert_age(age), sibsp, parch, fare, convert_embark_town(embark_town)])\n",
    "    X=np.array(X)\n",
    "    print(X)\n",
    "    X = scaler.transform(X)\n",
    "    # print(X)\n",
    "    if random_forest.predict(X) == 1:\n",
    "        st.markdown('==> **生存**')\n",
    "    else:\n",
    "        st.markdown('==> **死亡**')"
   ]
  }
 ],
 "metadata": {
  "kernelspec": {
   "display_name": "Python 3",
   "language": "python",
   "name": "python3"
  },
  "language_info": {
   "codemirror_mode": {
    "name": "ipython",
    "version": 3
   },
   "file_extension": ".py",
   "mimetype": "text/x-python",
   "name": "python",
   "nbconvert_exporter": "python",
   "pygments_lexer": "ipython3",
   "version": "3.7.6"
  }
 },
 "nbformat": 4,
 "nbformat_minor": 4
}
