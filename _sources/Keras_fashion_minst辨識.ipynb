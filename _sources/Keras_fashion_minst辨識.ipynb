{
 "cells": [
  {
   "cell_type": "markdown",
   "metadata": {},
   "source": [
    "## Keras_fashion_minst辨識"
   ]
  },
  {
   "cell_type": "code",
   "execution_count": 12,
   "metadata": {},
   "outputs": [],
   "source": [
    "import numpy as np  \n",
    "import tensorflow as tf\n",
    "import keras\n",
    "from keras.datasets import mnist\n",
    "from keras.layers import Dense, Dropout, Activation, Flatten\n",
    "from keras.utils import np_utils  # 用來後續將 label 標籤轉為 one-hot-encoding  \n",
    "from matplotlib import pyplot as plt\n",
    "import os"
   ]
  },
  {
   "cell_type": "code",
   "execution_count": 17,
   "metadata": {},
   "outputs": [
    {
     "name": "stdout",
     "output_type": "stream",
     "text": [
      "X_trains.shape: (60000, 28, 28) y_trains.shape: (60000,)\n"
     ]
    }
   ],
   "source": [
    "(X_trains, y_trains), (X_tests, y_tests)= tf.keras.datasets.fashion_mnist.load_data()\n",
    "print (\"X_trains.shape:\",X_trains.shape,\"y_trains.shape:\", y_trains.shape)"
   ]
  },
  {
   "cell_type": "code",
   "execution_count": 41,
   "metadata": {},
   "outputs": [
    {
     "name": "stdout",
     "output_type": "stream",
     "text": [
      "y = 0 T-shirt/top\n"
     ]
    },
    {
     "data": {
      "text/plain": [
       "<matplotlib.image.AxesImage at 0x22e87bcd988>"
      ]
     },
     "execution_count": 41,
     "metadata": {},
     "output_type": "execute_result"
    },
    {
     "data": {
      "image/png": "[encoded data removed]",
      "text/plain": [
       "<Figure size 432x288 with 1 Axes>"
      ]
     },
     "metadata": {
      "needs_background": "light"
     },
     "output_type": "display_data"
    }
   ],
   "source": [
    "fashion_mnist_labels = [\"T-shirt/top\",  # index 0\n",
    "                        \"Trouser\",      # index 1\n",
    "                        \"Pullover\",     # index 2 \n",
    "                        \"Dress\",        # index 3 \n",
    "                        \"Coat\",         # index 4\n",
    "                        \"Sandal\",       # index 5\n",
    "                        \"Shirt\",        # index 6 \n",
    "                        \"Sneaker\",      # index 7 \n",
    "                        \"Bag\",          # index 8 \n",
    "                        \"Ankle boot\"]   # index 9\n",
    "img = 1\n",
    "#img = X_trains[4].reshape(28, 28)\n",
    "label_index = y_trains[img]\n",
    "print (\"y = \" + str(label_index) + \" \" +(fashion_mnist_labels[label_index]))\n",
    "plt.imshow(X_trains[img], cmap='Greys')"
   ]
  },
  {
   "cell_type": "code",
   "execution_count": 43,
   "metadata": {},
   "outputs": [
    {
     "data": {
      "text/plain": [
       "['[0 0 0 0 0 1 0 0 0 0 1 1 1 1 1 1 1 1 1 1 0 0 0 0 0 0 0 0]',\n",
       " '[0 0 0 1 0 0 0 1 1 1 1 1 1 1 1 1 1 1 1 1 1 1 1 0 0 0 0 0]',\n",
       " '[0 0 0 0 0 1 1 1 1 1 1 1 1 1 1 1 1 1 1 1 1 1 1 1 0 0 0 0]',\n",
       " '[0 0 0 0 0 1 1 1 1 1 1 1 1 1 1 1 1 1 1 1 1 1 1 1 1 0 0 0]',\n",
       " '[0 0 0 0 1 1 1 1 1 1 1 1 1 1 1 1 1 1 1 1 1 1 1 1 1 0 0 0]',\n",
       " '[0 0 0 0 1 1 1 1 1 1 1 1 1 1 1 1 1 1 1 1 1 1 1 1 1 0 0 0]',\n",
       " '[0 0 0 0 1 1 1 1 1 1 0 1 1 0 1 1 1 1 1 0 1 1 1 1 1 1 0 0]',\n",
       " '[0 0 0 0 1 1 1 1 1 1 0 1 1 1 1 1 1 1 1 0 1 1 1 1 1 1 0 0]',\n",
       " '[0 0 0 1 1 1 1 1 1 1 0 1 1 1 1 1 1 1 1 0 1 1 1 1 1 1 0 0]',\n",
       " '[0 0 0 1 1 1 1 1 1 1 1 1 1 1 1 1 1 1 1 1 1 1 1 1 1 1 0 0]',\n",
       " '[0 0 0 1 1 1 1 1 1 1 1 1 1 1 1 1 1 1 1 1 1 1 1 1 1 1 0 0]',\n",
       " '[0 0 0 0 0 1 1 1 1 1 1 1 1 1 1 1 1 1 1 1 1 1 0 0 0 0 0 0]',\n",
       " '[0 0 0 0 0 0 0 1 1 1 1 1 1 1 1 1 1 1 1 1 1 1 0 0 0 0 0 0]',\n",
       " '[0 0 0 0 1 1 0 1 1 1 1 1 1 1 1 1 1 1 1 1 1 1 0 1 1 0 0 0]',\n",
       " '[0 0 0 0 0 1 0 1 1 1 1 1 1 1 1 1 1 1 1 1 1 1 0 1 0 0 0 0]',\n",
       " '[0 0 0 0 0 1 0 1 1 1 1 1 1 1 1 1 1 1 1 1 1 1 0 1 0 0 0 0]',\n",
       " '[0 0 0 0 0 1 0 0 1 1 1 1 1 1 1 1 1 1 1 1 1 1 0 1 0 0 0 0]',\n",
       " '[0 0 0 0 0 1 0 0 1 1 1 1 1 1 1 1 1 1 1 1 1 1 0 1 0 0 0 0]',\n",
       " '[0 0 0 0 0 1 0 0 1 1 1 1 1 1 1 1 1 1 1 1 1 1 0 1 0 0 0 0]',\n",
       " '[0 0 0 0 0 1 0 0 1 1 1 1 1 1 1 1 1 1 1 1 1 1 0 1 0 0 0 0]',\n",
       " '[0 0 0 0 0 1 0 0 1 1 1 1 1 1 1 1 1 1 1 1 1 1 0 1 0 0 0 0]',\n",
       " '[0 0 0 0 0 1 0 0 1 1 1 1 1 1 1 1 1 1 1 1 1 1 0 1 0 0 0 0]',\n",
       " '[0 0 0 0 0 0 0 0 1 1 1 1 1 1 1 1 1 1 1 1 1 1 0 1 0 0 0 0]',\n",
       " '[0 0 0 0 0 1 0 0 1 1 1 1 1 1 1 1 1 1 1 1 1 1 0 1 0 0 0 0]',\n",
       " '[0 0 0 0 0 1 0 0 1 1 1 1 1 1 1 1 1 1 1 1 1 1 0 1 0 0 0 0]',\n",
       " '[0 0 0 0 0 0 0 0 1 1 1 1 1 1 1 1 1 1 1 1 1 1 0 0 0 0 0 0]',\n",
       " '[0 0 0 0 0 0 0 0 1 1 1 1 1 1 1 1 1 1 1 1 1 1 0 1 0 0 0 0]',\n",
       " '[0 0 0 0 0 1 0 0 1 1 1 1 1 1 1 1 1 1 1 1 1 1 0 0 0 0 0 0]']"
      ]
     },
     "execution_count": 43,
     "metadata": {},
     "output_type": "execute_result"
    }
   ],
   "source": [
    "data = X_trains[1].copy()\n",
    "data[data>0]=1\n",
    "text_image=[]\n",
    "for i in range(data.shape[0]):\n",
    "    text_image.append(''.join(str(data[i])))\n",
    "text_image\n"
   ]
  },
  {
   "cell_type": "code",
   "execution_count": 47,
   "metadata": {},
   "outputs": [
    {
     "data": {
      "text/plain": [
       "array([0., 0., 0., 0., 0., 0., 0., 0., 0., 1.], dtype=float32)"
      ]
     },
     "execution_count": 47,
     "metadata": {},
     "output_type": "execute_result"
    }
   ],
   "source": [
    "y_TrainOneHot = np_utils.to_categorical(y_trains) \n",
    "y_TestOneHot = np_utils.to_categorical(y_tests) \n",
    "y_TestOneHot[0]"
   ]
  },
  {
   "cell_type": "code",
   "execution_count": 50,
   "metadata": {},
   "outputs": [],
   "source": [
    "X_train_2D = X_trains.reshape(60000, 28*28).astype('float32')  \n",
    "X_test_2D = X_tests.reshape(10000, 28*28).astype('float32')  \n",
    "x_Train_norm = X_train_2D/255\n",
    "x_Test_norm = X_test_2D/255"
   ]
  },
  {
   "cell_type": "code",
   "execution_count": 63,
   "metadata": {},
   "outputs": [
    {
     "name": "stdout",
     "output_type": "stream",
     "text": [
      "Epoch 1/25\n",
      "60/60 - 1s - loss: 0.8502 - accuracy: 0.7222 - val_loss: 0.5428 - val_accuracy: 0.8173\n",
      "Epoch 2/25\n",
      "60/60 - 1s - loss: 0.4965 - accuracy: 0.8323 - val_loss: 0.4682 - val_accuracy: 0.8353\n",
      "Epoch 3/25\n",
      "60/60 - 1s - loss: 0.4396 - accuracy: 0.8498 - val_loss: 0.4304 - val_accuracy: 0.8506\n",
      "Epoch 4/25\n",
      "60/60 - 1s - loss: 0.4123 - accuracy: 0.8559 - val_loss: 0.4174 - val_accuracy: 0.8518\n",
      "Epoch 5/25\n",
      "60/60 - 1s - loss: 0.3888 - accuracy: 0.8650 - val_loss: 0.4178 - val_accuracy: 0.8527\n",
      "Epoch 6/25\n",
      "60/60 - 1s - loss: 0.3693 - accuracy: 0.8710 - val_loss: 0.3810 - val_accuracy: 0.8662\n",
      "Epoch 7/25\n",
      "60/60 - 1s - loss: 0.3510 - accuracy: 0.8791 - val_loss: 0.3696 - val_accuracy: 0.8709\n",
      "Epoch 8/25\n",
      "60/60 - 1s - loss: 0.3449 - accuracy: 0.8769 - val_loss: 0.3672 - val_accuracy: 0.8708\n",
      "Epoch 9/25\n",
      "60/60 - 1s - loss: 0.3279 - accuracy: 0.8845 - val_loss: 0.3563 - val_accuracy: 0.8757\n",
      "Epoch 10/25\n",
      "60/60 - 1s - loss: 0.3190 - accuracy: 0.8876 - val_loss: 0.3560 - val_accuracy: 0.8730\n",
      "Epoch 11/25\n",
      "60/60 - 1s - loss: 0.3128 - accuracy: 0.8880 - val_loss: 0.3432 - val_accuracy: 0.8796\n",
      "Epoch 12/25\n",
      "60/60 - 1s - loss: 0.3012 - accuracy: 0.8928 - val_loss: 0.3427 - val_accuracy: 0.8780\n",
      "Epoch 13/25\n",
      "60/60 - 1s - loss: 0.2953 - accuracy: 0.8944 - val_loss: 0.3436 - val_accuracy: 0.8778\n",
      "Epoch 14/25\n",
      "60/60 - 1s - loss: 0.2860 - accuracy: 0.8969 - val_loss: 0.3424 - val_accuracy: 0.8773\n",
      "Epoch 15/25\n",
      "60/60 - 1s - loss: 0.2784 - accuracy: 0.9004 - val_loss: 0.3270 - val_accuracy: 0.8836\n",
      "Epoch 16/25\n",
      "60/60 - 1s - loss: 0.2718 - accuracy: 0.9022 - val_loss: 0.3265 - val_accuracy: 0.8830\n",
      "Epoch 17/25\n",
      "60/60 - 1s - loss: 0.2640 - accuracy: 0.9059 - val_loss: 0.3206 - val_accuracy: 0.8842\n",
      "Epoch 18/25\n",
      "60/60 - 1s - loss: 0.2600 - accuracy: 0.9084 - val_loss: 0.3182 - val_accuracy: 0.8875\n",
      "Epoch 19/25\n",
      "60/60 - 1s - loss: 0.2545 - accuracy: 0.9088 - val_loss: 0.3265 - val_accuracy: 0.8823\n",
      "Epoch 20/25\n",
      "60/60 - 1s - loss: 0.2510 - accuracy: 0.9110 - val_loss: 0.3216 - val_accuracy: 0.8839\n",
      "Epoch 21/25\n",
      "60/60 - 1s - loss: 0.2476 - accuracy: 0.9106 - val_loss: 0.3156 - val_accuracy: 0.8859\n",
      "Epoch 22/25\n",
      "60/60 - 1s - loss: 0.2420 - accuracy: 0.9138 - val_loss: 0.3156 - val_accuracy: 0.8862\n",
      "Epoch 23/25\n",
      "60/60 - 1s - loss: 0.2330 - accuracy: 0.9177 - val_loss: 0.3186 - val_accuracy: 0.8868\n",
      "Epoch 24/25\n",
      "60/60 - 1s - loss: 0.2313 - accuracy: 0.9166 - val_loss: 0.3264 - val_accuracy: 0.8841\n",
      "Epoch 25/25\n",
      "60/60 - 1s - loss: 0.2273 - accuracy: 0.9187 - val_loss: 0.3092 - val_accuracy: 0.8888\n"
     ]
    }
   ],
   "source": [
    "# 建立簡單的線性執行的模型\n",
    "model= keras.models.Sequential()\n",
    "model.add(Dense(units=256, input_dim=784, kernel_initializer=\"normal\", activation='relu'))\n",
    "model.add(Dense(units=10, kernel_initializer=\"normal\", activation=\"softmax\"))\n",
    "#編譯損失函數、優化方法及成效衡量方式\n",
    "model.compile(loss='categorical_crossentropy', optimizer='adam', metrics=['accuracy'])\n",
    "#進行訓練\n",
    "train_history=model.fit(x=x_Train_norm, y=y_TrainOneHot, validation_split=0.2, epochs=25, batch_size=800, verbose=2)"
   ]
  },
  {
   "cell_type": "code",
   "execution_count": 65,
   "metadata": {},
   "outputs": [
    {
     "data": {
      "text/plain": [
       "[<matplotlib.lines.Line2D at 0x22ea11b8848>]"
      ]
     },
     "execution_count": 65,
     "metadata": {},
     "output_type": "execute_result"
    },
    {
     "data": {
      "image/png": "[encoded data removed]",
      "text/plain": [
       "<Figure size 432x288 with 1 Axes>"
      ]
     },
     "metadata": {
      "needs_background": "light"
     },
     "output_type": "display_data"
    }
   ],
   "source": [
    "plt.plot(train_history.history[\"loss\"], \"r\")\n",
    "plt.plot(train_history.history[\"val_loss\"], \"g\")"
   ]
  },
  {
   "cell_type": "code",
   "execution_count": 66,
   "metadata": {},
   "outputs": [
    {
     "data": {
      "text/plain": [
       "[<matplotlib.lines.Line2D at 0x22ea12a0ec8>]"
      ]
     },
     "execution_count": 66,
     "metadata": {},
     "output_type": "execute_result"
    },
    {
     "data": {
      "image/png": "[encoded data removed]",
      "text/plain": [
       "<Figure size 432x288 with 1 Axes>"
      ]
     },
     "metadata": {
      "needs_background": "light"
     },
     "output_type": "display_data"
    }
   ],
   "source": [
    "plt.plot(train_history.history[\"accuracy\"], \"r\")\n",
    "plt.plot(train_history.history[\"val_accuracy\"], \"g\")"
   ]
  },
  {
   "cell_type": "code",
   "execution_count": 67,
   "metadata": {},
   "outputs": [
    {
     "name": "stdout",
     "output_type": "stream",
     "text": [
      "Model: \"sequential_8\"\n",
      "_________________________________________________________________\n",
      "Layer (type)                 Output Shape              Param #   \n",
      "=================================================================\n",
      "dense_14 (Dense)             (None, 256)               200960    \n",
      "_________________________________________________________________\n",
      "dense_15 (Dense)             (None, 10)                2570      \n",
      "=================================================================\n",
      "Total params: 203,530\n",
      "Trainable params: 203,530\n",
      "Non-trainable params: 0\n",
      "_________________________________________________________________\n",
      "None\n"
     ]
    }
   ],
   "source": [
    "print(model.summary())"
   ]
  },
  {
   "cell_type": "code",
   "execution_count": 69,
   "metadata": {},
   "outputs": [
    {
     "name": "stdout",
     "output_type": "stream",
     "text": [
      "313/313 [==============================] - 1s 2ms/step - loss: 0.3284 - accuracy: 0.8846\n",
      "準確度 = 88.5\n"
     ]
    }
   ],
   "source": [
    "scores = model.evaluate(x_Test_norm, y_TestOneHot)   \n",
    "print(f\"準確度 = {scores[1]*100.0:2.1f}\")"
   ]
  },
  {
   "cell_type": "code",
   "execution_count": null,
   "metadata": {},
   "outputs": [],
   "source": []
  }
 ],
 "metadata": {
  "kernelspec": {
   "display_name": "Python 3",
   "language": "python",
   "name": "python3"
  },
  "language_info": {
   "codemirror_mode": {
    "name": "ipython",
    "version": 3
   },
   "file_extension": ".py",
   "mimetype": "text/x-python",
   "name": "python",
   "nbconvert_exporter": "python",
   "pygments_lexer": "ipython3",
   "version": "3.7.6"
  }
 },
 "nbformat": 4,
 "nbformat_minor": 4
}
